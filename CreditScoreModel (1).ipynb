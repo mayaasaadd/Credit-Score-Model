{
  "nbformat": 4,
  "nbformat_minor": 0,
  "metadata": {
    "colab": {
      "provenance": []
    },
    "kernelspec": {
      "name": "python3",
      "display_name": "Python 3"
    },
    "language_info": {
      "name": "python"
    }
  },
  "cells": [
    {
      "cell_type": "code",
      "execution_count": 1,
      "metadata": {
        "colab": {
          "base_uri": "https://localhost:8080/",
          "height": 929
        },
        "id": "-FnArzpk4S91",
        "outputId": "5a2c8351-0fe4-4ae7-e21b-06054f1ea25e"
      },
      "outputs": [
        {
          "output_type": "stream",
          "name": "stdout",
          "text": [
            "Best Hyperparameters: {'max_depth': 5, 'n_estimators': 150}\n",
            "Accuracy: 0.24\n",
            "Classification Report:\n",
            "               precision    recall  f1-score   support\n",
            "\n",
            "   Excellent       0.35      0.34      0.35        58\n",
            "        Fair       0.15      0.21      0.17        39\n",
            "        Good       0.19      0.18      0.19        50\n",
            "        Poor       0.28      0.23      0.25        53\n",
            "\n",
            "    accuracy                           0.24       200\n",
            "   macro avg       0.24      0.24      0.24       200\n",
            "weighted avg       0.25      0.24      0.25       200\n",
            "\n",
            "\n",
            "Feature Importance:\n",
            "           Feature  Importance\n",
            "0          Income    0.484615\n",
            "1            Debt    0.447405\n",
            "2  Credit_History    0.067980\n"
          ]
        },
        {
          "output_type": "display_data",
          "data": {
            "text/plain": [
              "<Figure size 1000x600 with 1 Axes>"
            ],
            "image/png": "[encoded data removed]"
          },
          "metadata": {}
        }
      ],
      "source": [
        "from sklearn.model_selection import GridSearchCV\n",
        "import pandas as pd\n",
        "from sklearn.model_selection import train_test_split, GridSearchCV  # Import GridSearchCV\n",
        "from sklearn.preprocessing import StandardScaler, LabelEncoder\n",
        "from sklearn.ensemble import RandomForestClassifier\n",
        "from sklearn.metrics import accuracy_score, classification_report\n",
        "import numpy as np\n",
        "import matplotlib.pyplot as plt  # Import matplotlib for plotting\n",
        "\n",
        "# Set a random seed for reproducibility\n",
        "np.random.seed(42)\n",
        "\n",
        "# Generate a larger dataset\n",
        "num_samples = 1000\n",
        "\n",
        "data = {\n",
        "    'Income': np.random.randint(30000, 120000, num_samples),\n",
        "    'Debt': np.random.randint(5000, 30000, num_samples),\n",
        "    'Credit_History': np.random.choice([0, 1], num_samples),\n",
        "    'Credit_Score': np.random.choice(['Poor', 'Fair', 'Good', 'Excellent'], num_samples)\n",
        "}\n",
        "\n",
        "# Create a DataFrame\n",
        "df = pd.DataFrame(data)\n",
        "\n",
        "# Save the DataFrame to a CSV file\n",
        "df.to_csv('larger_credit_data.csv', index=False)\n",
        "\n",
        "# Assuming 'Credit_Score' is your target variable\n",
        "X = df.drop('Credit_Score', axis=1)\n",
        "y = df['Credit_Score']\n",
        "\n",
        "# Encode categorical labels\n",
        "label_encoder = LabelEncoder()\n",
        "y = label_encoder.fit_transform(y)\n",
        "\n",
        "# Split the data into training and testing sets\n",
        "X_train, X_test, y_train, y_test = train_test_split(X, y, test_size=0.2, random_state=42)\n",
        "\n",
        "# Data preprocessing: Standardize numerical features\n",
        "scaler = StandardScaler()\n",
        "X_train_scaled = scaler.fit_transform(X_train)\n",
        "X_test_scaled = scaler.transform(X_test)\n",
        "\n",
        "# Create and train a Random Forest classifier with hyperparameter tuning\n",
        "param_grid = {\n",
        "    'n_estimators': [50, 100, 150],\n",
        "    'max_depth': [None, 5, 10, 15]\n",
        "}\n",
        "\n",
        "grid_search = GridSearchCV(RandomForestClassifier(random_state=42), param_grid, cv=3)\n",
        "grid_search.fit(X_train_scaled, y_train)\n",
        "\n",
        "# Get the best parameters from the grid search\n",
        "best_params = grid_search.best_params_\n",
        "\n",
        "# Create and train the model with the best parameters\n",
        "best_model = RandomForestClassifier(random_state=42, **best_params)\n",
        "best_model.fit(X_train_scaled, y_train)\n",
        "\n",
        "# Make predictions on the test set\n",
        "y_pred = best_model.predict(X_test_scaled)\n",
        "\n",
        "# Evaluate the model\n",
        "accuracy = accuracy_score(y_test, y_pred)\n",
        "classification_report_result = classification_report(y_test, y_pred, target_names=label_encoder.classes_)\n",
        "\n",
        "# Print the results\n",
        "print(f\"Best Hyperparameters: {best_params}\")\n",
        "print(f\"Accuracy: {accuracy:.2f}\")\n",
        "print(\"Classification Report:\\n\", classification_report_result)\n",
        "\n",
        "# Feature Importance\n",
        "feature_importance = pd.DataFrame({'Feature': X.columns, 'Importance': best_model.feature_importances_})\n",
        "feature_importance = feature_importance.sort_values(by='Importance', ascending=False)\n",
        "print(\"\\nFeature Importance:\\n\", feature_importance)\n",
        "\n",
        "# Plotting feature importance\n",
        "plt.figure(figsize=(10, 6))\n",
        "plt.barh(feature_importance['Feature'], feature_importance['Importance'], color='skyblue')\n",
        "plt.xlabel('Importance')\n",
        "plt.ylabel('Features')\n",
        "plt.title('Feature Importance')\n",
        "plt.gca().invert_yaxis()  # Invert y-axis to show the most important features at the top\n",
        "plt.show()\n"
      ]
    },
    {
      "cell_type": "code",
      "source": [],
      "metadata": {
        "id": "HTseVgiS8LGY"
      },
      "execution_count": null,
      "outputs": []
    }
  ]
}